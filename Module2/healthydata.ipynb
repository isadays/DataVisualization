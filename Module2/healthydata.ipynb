{
 "cells": [
  {
   "cell_type": "code",
   "execution_count": 42,
   "metadata": {},
   "outputs": [],
   "source": [
    "import matplotlib\n",
    "import matplotlib.pyplot as plt\n",
    "import numpy as np\n",
    "import pandas as pd"
   ]
  },
  {
   "cell_type": "code",
   "execution_count": 43,
   "metadata": {},
   "outputs": [],
   "source": [
    "#oecd health spending \n",
    "spending_df = pd.read_csv('spending.csv')\n",
    "#oecd life expectancy\n",
    "expectancy_df = pd.read_csv('expectancy.csv')"
   ]
  },
  {
   "cell_type": "code",
   "execution_count": 44,
   "metadata": {},
   "outputs": [
    {
     "data": {
      "text/plain": [
       "(49, 50)"
      ]
     },
     "execution_count": 44,
     "metadata": {},
     "output_type": "execute_result"
    }
   ],
   "source": [
    "len(expectancy_df['COU'].unique()),len(spending_df['LOCATION'].unique())"
   ]
  },
  {
   "cell_type": "code",
   "execution_count": 45,
   "metadata": {},
   "outputs": [],
   "source": [
    "expectancy_df = expectancy_df[~expectancy_df['COU'].isin(['RUS','IDN', 'ZAF'])]\n",
    "spending_df = spending_df[~spending_df['LOCATION'].isin(['CYP', 'MLT','IDN', 'ZAF'])]\n"
   ]
  },
  {
   "cell_type": "code",
   "execution_count": 46,
   "metadata": {},
   "outputs": [],
   "source": [
    "expectancy_df.rename(columns={'COU': 'LOCATION'}, inplace=True)"
   ]
  },
  {
   "cell_type": "code",
   "execution_count": 47,
   "metadata": {},
   "outputs": [],
   "source": [
    "def tweak_data(spending_df, expectancy_df):\n",
    "    return (spending_df.query('MEASURE==\"MLLNCU\"').groupby(['Year','LOCATION']).first().Value.rename('Spending_USD').to_frame()\n",
    "            .merge(expectancy_df.groupby(['Year','LOCATION']).Value.max().rename('Life_expectancy').to_frame(),left_index=True,\n",
    "                   right_index=True).reset_index()\n",
    "    )\n",
    "\n",
    "def plot_spend_vs_expect(group,ax):\n",
    "    color = 'red' if group.name == 'USA' else '#ddd'\n",
    "    group.plot(x='Spending_USD', y= 'Life_expectancy',ax=ax, c= color, legend=False)\n",
    "    ax.text(group.Spending_USD.iloc[-1],\n",
    "            group.Life_expectancy.iloc[-1], group.name , color=color\n",
    "            )\n",
    "    \n",
    "    \n",
    "        "
   ]
  },
  {
   "cell_type": "code",
   "execution_count": 48,
   "metadata": {},
   "outputs": [],
   "source": [
    "df= tweak_data(spending_df, expectancy_df)"
   ]
  },
  {
   "cell_type": "code",
   "execution_count": 49,
   "metadata": {},
   "outputs": [],
   "source": [
    "df.to_csv('owid-spending-vs-lifeexp.csv')"
   ]
  },
  {
   "cell_type": "code",
   "execution_count": 50,
   "metadata": {},
   "outputs": [
    {
     "data": {
      "text/html": [
       "<div>\n",
       "<style scoped>\n",
       "    .dataframe tbody tr th:only-of-type {\n",
       "        vertical-align: middle;\n",
       "    }\n",
       "\n",
       "    .dataframe tbody tr th {\n",
       "        vertical-align: top;\n",
       "    }\n",
       "\n",
       "    .dataframe thead th {\n",
       "        text-align: right;\n",
       "    }\n",
       "</style>\n",
       "<table border=\"1\" class=\"dataframe\">\n",
       "  <thead>\n",
       "    <tr style=\"text-align: right;\">\n",
       "      <th></th>\n",
       "      <th>Year</th>\n",
       "      <th>LOCATION</th>\n",
       "      <th>Spending_USD</th>\n",
       "      <th>Life_expectancy</th>\n",
       "    </tr>\n",
       "  </thead>\n",
       "  <tbody>\n",
       "    <tr>\n",
       "      <th>0</th>\n",
       "      <td>1970</td>\n",
       "      <td>AUT</td>\n",
       "      <td>1405.420</td>\n",
       "      <td>73.5</td>\n",
       "    </tr>\n",
       "    <tr>\n",
       "      <th>1</th>\n",
       "      <td>1970</td>\n",
       "      <td>BEL</td>\n",
       "      <td>1276.550</td>\n",
       "      <td>74.2</td>\n",
       "    </tr>\n",
       "    <tr>\n",
       "      <th>2</th>\n",
       "      <td>1970</td>\n",
       "      <td>CHE</td>\n",
       "      <td>5202.400</td>\n",
       "      <td>76.2</td>\n",
       "    </tr>\n",
       "    <tr>\n",
       "      <th>3</th>\n",
       "      <td>1970</td>\n",
       "      <td>CZE</td>\n",
       "      <td>7543.000</td>\n",
       "      <td>73.1</td>\n",
       "    </tr>\n",
       "    <tr>\n",
       "      <th>4</th>\n",
       "      <td>1970</td>\n",
       "      <td>DEU</td>\n",
       "      <td>4794.900</td>\n",
       "      <td>73.6</td>\n",
       "    </tr>\n",
       "    <tr>\n",
       "      <th>...</th>\n",
       "      <td>...</td>\n",
       "      <td>...</td>\n",
       "      <td>...</td>\n",
       "      <td>...</td>\n",
       "    </tr>\n",
       "    <tr>\n",
       "      <th>1552</th>\n",
       "      <td>2017</td>\n",
       "      <td>SVK</td>\n",
       "      <td>738.780</td>\n",
       "      <td>80.7</td>\n",
       "    </tr>\n",
       "    <tr>\n",
       "      <th>1553</th>\n",
       "      <td>2017</td>\n",
       "      <td>SVN</td>\n",
       "      <td>792.524</td>\n",
       "      <td>84.0</td>\n",
       "    </tr>\n",
       "    <tr>\n",
       "      <th>1554</th>\n",
       "      <td>2017</td>\n",
       "      <td>SWE</td>\n",
       "      <td>498821.000</td>\n",
       "      <td>84.1</td>\n",
       "    </tr>\n",
       "    <tr>\n",
       "      <th>1555</th>\n",
       "      <td>2017</td>\n",
       "      <td>TUR</td>\n",
       "      <td>1079.547</td>\n",
       "      <td>80.8</td>\n",
       "    </tr>\n",
       "    <tr>\n",
       "      <th>1556</th>\n",
       "      <td>2017</td>\n",
       "      <td>USA</td>\n",
       "      <td>5422.980</td>\n",
       "      <td>81.1</td>\n",
       "    </tr>\n",
       "  </tbody>\n",
       "</table>\n",
       "<p>1557 rows × 4 columns</p>\n",
       "</div>"
      ],
      "text/plain": [
       "      Year LOCATION  Spending_USD  Life_expectancy\n",
       "0     1970      AUT      1405.420             73.5\n",
       "1     1970      BEL      1276.550             74.2\n",
       "2     1970      CHE      5202.400             76.2\n",
       "3     1970      CZE      7543.000             73.1\n",
       "4     1970      DEU      4794.900             73.6\n",
       "...    ...      ...           ...              ...\n",
       "1552  2017      SVK       738.780             80.7\n",
       "1553  2017      SVN       792.524             84.0\n",
       "1554  2017      SWE    498821.000             84.1\n",
       "1555  2017      TUR      1079.547             80.8\n",
       "1556  2017      USA      5422.980             81.1\n",
       "\n",
       "[1557 rows x 4 columns]"
      ]
     },
     "execution_count": 50,
     "metadata": {},
     "output_type": "execute_result"
    }
   ],
   "source": [
    "df"
   ]
  },
  {
   "cell_type": "code",
   "execution_count": 51,
   "metadata": {},
   "outputs": [],
   "source": [
    "df = pd.read_csv('owid-spending-vs-lifeexp.csv')\n"
   ]
  }
 ],
 "metadata": {
  "kernelspec": {
   "display_name": "Python 3",
   "language": "python",
   "name": "python3"
  },
  "language_info": {
   "codemirror_mode": {
    "name": "ipython",
    "version": 3
   },
   "file_extension": ".py",
   "mimetype": "text/x-python",
   "name": "python",
   "nbconvert_exporter": "python",
   "pygments_lexer": "ipython3",
   "version": "3.10.13"
  }
 },
 "nbformat": 4,
 "nbformat_minor": 2
}
